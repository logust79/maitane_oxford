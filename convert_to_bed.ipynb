{
 "cells": [
  {
   "cell_type": "markdown",
   "metadata": {
    "deletable": true,
    "editable": true
   },
   "source": [
    "## Convert xlsx to bed files"
   ]
  },
  {
   "cell_type": "code",
   "execution_count": null,
   "metadata": {
    "collapsed": false,
    "deletable": true,
    "editable": true
   },
   "outputs": [],
   "source": [
    "import pandas as pd\n",
    "import os\n",
    "excel_file = 'data/loh.xlsx'\n",
    "xls = pd.ExcelFile(excel_file)"
   ]
  },
  {
   "cell_type": "code",
   "execution_count": null,
   "metadata": {
    "collapsed": false,
    "deletable": true,
    "editable": true
   },
   "outputs": [],
   "source": [
    "for patient in xls.sheet_names:\n",
    "    # outfile\n",
    "    outfile = '_'.join(patient.split()) + '.bed'\n",
    "    outfile = os.path.join('output','bed',outfile)\n",
    "    outf = open(outfile,'w')\n",
    "    df = xls.parse(patient)\n",
    "    last_chrom = None\n",
    "    for index, row in df.iterrows():\n",
    "        # get chrom\n",
    "        if pd.isnull(row['Chromosome']):\n",
    "            chrom = last_chrom\n",
    "        else:\n",
    "            chrom = last_chrom = row['Chromosome']\n",
    "        chrom = chrom.split()[1]\n",
    "        start,end = row['Region'].split('-')\n",
    "        outf.write('\\t'.join([chrom,start,end]) + '\\n')\n",
    "    "
   ]
  },
  {
   "cell_type": "code",
   "execution_count": null,
   "metadata": {
    "collapsed": true,
    "deletable": true,
    "editable": true
   },
   "outputs": [],
   "source": []
  }
 ],
 "metadata": {
  "kernelspec": {
   "display_name": "Python 3",
   "language": "python",
   "name": "python3"
  },
  "language_info": {
   "codemirror_mode": {
    "name": "ipython",
    "version": 3
   },
   "file_extension": ".py",
   "mimetype": "text/x-python",
   "name": "python",
   "nbconvert_exporter": "python",
   "pygments_lexer": "ipython3",
   "version": "3.6.0"
  }
 },
 "nbformat": 4,
 "nbformat_minor": 2
}
